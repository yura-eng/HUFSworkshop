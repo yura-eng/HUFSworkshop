{
  "nbformat": 4,
  "nbformat_minor": 0,
  "metadata": {
    "colab": {
      "provenance": [],
      "gpuType": "T4",
      "include_colab_link": true
    },
    "kernelspec": {
      "name": "python3",
      "display_name": "Python 3"
    },
    "language_info": {
      "name": "python"
    },
    "accelerator": "GPU"
  },
  "cells": [
    {
      "cell_type": "markdown",
      "metadata": {
        "id": "view-in-github",
        "colab_type": "text"
      },
      "source": [
        "<a href=\"https://colab.research.google.com/github/yura-eng/HUFSworkshop/blob/main/sample_listeningcomp_q.ipynb\" target=\"_parent\"><img src=\"https://colab.research.google.com/assets/colab-badge.svg\" alt=\"Open In Colab\"/></a>"
      ]
    },
    {
      "cell_type": "markdown",
      "source": [
        "#Listening Comprehension Question APP creation using ChatGPT\n",
        "## ChatGPT 4.0; Python"
      ],
      "metadata": {
        "id": "LBk-a25TxfwV"
      }
    },
    {
      "cell_type": "markdown",
      "source": [
        "## Sample steps\n",
        "###1. Creating a listening question using ChatGPT\n",
        "###2. Digitally coverting the listening question using Python\n",
        "###3. Creating the app version of the digitized listening question."
      ],
      "metadata": {
        "id": "R-iqCzhzx_H9"
      }
    },
    {
      "cell_type": "markdown",
      "source": [
        "## Step1: Creating a listening question using generative AI\n",
        "\n",
        "### Sample prompt:\n",
        "- 나는 중학교 2학년 영어선생님이야. 학생들에게 영어듣기 이해 문제 1개를 만들려고 해.  문제 유형은 내용을 듣고 4지선다지 중에 적절한 것을 고르는 거로 하고 싶어. 주제는 환경보호에 관한 거로 해 주고, 글자수는 50자 미만으로 하고해. 문제, 선택지, 답 만들어 줄래\n",
        "\n",
        "### GPT response:\n",
        "- 물론이야! 다음과 같이 문제를 만들어 봤어.\n",
        "\n",
        "- 문제:\n",
        "-Why is it important to recycle?\"\n",
        "\n",
        "- 선택지:\n",
        "A) To save energy\n",
        "B) To create noise\n",
        "C) To increase waste\n",
        "D) To use more resources\n",
        "\n",
        "- 정답: A) To save energy\n",
        "\n",
        "- 이렇게 하면 영어 듣기 연습에 도움이 될 거야!"
      ],
      "metadata": {
        "id": "hwRmp7rWy4Rb"
      }
    },
    {
      "cell_type": "markdown",
      "source": [
        "###Sample prompt: 문제를 100글자로 된 지문 형식으로 해 줘.\n",
        "\n",
        "### GPT response:\n",
        "- 물론이야! 100글자 정도의 지문 형식으로 문제를 만들어볼게.\n",
        "\n",
        "- 지문:\n",
        "\"Recycling is important for protecting our environment. It helps reduce waste and saves energy. By recycling materials like paper, plastic, and metal, we can lessen pollution and conserve natural resources. Everyone can contribute by recycling at home and school.\"\n",
        "\n",
        "- 문제:\n",
        "\"What is the main benefit of recycling?\"\n",
        "\n",
        "- 선택지:\n",
        "A) It creates more waste.\n",
        "B) It saves energy.\n",
        "C) It uses more resources.\n",
        "D) It increases pollution.\n",
        "\n",
        "- 정답: B) It saves energy.\n",
        "\n",
        "- 이렇게 하면 학생들이 주제를 잘 이해할 수 있을 거야!"
      ],
      "metadata": {
        "id": "1UOwh1tjzhJb"
      }
    },
    {
      "cell_type": "markdown",
      "source": [
        "##Step 2:  Digitizing the listening questions\n",
        "\n",
        "### Sample prompt:\n",
        "- 위의 내용을 파이썬을 이용해서 학생들에게 테스트 하게 하고 싶어. 파이썬 실행은 colab을 이용할 거고. 지문은 학생들에게 보여주지 않고 gtts를 이용해서 소리로만 들려주고 싶어. 문제와 선택지는 학생들에게 보여주고. 정답은 문제를 푼 후에 맞았는지 틀렸는지 알려주고 싶어. 파이썬 코드 부탁해.  \n",
        "\n"
      ],
      "metadata": {
        "id": "8-HXGVvi0J2V"
      }
    },
    {
      "cell_type": "code",
      "execution_count": null,
      "metadata": {
        "colab": {
          "base_uri": "https://localhost:8080/",
          "height": 777
        },
        "id": "dCwMsh5IvF7k",
        "outputId": "63c1f9db-1241-4f22-faf6-de7294003d7b"
      },
      "outputs": [
        {
          "output_type": "stream",
          "name": "stdout",
          "text": [
            "Collecting gtts\n",
            "  Downloading gTTS-2.5.3-py3-none-any.whl.metadata (4.1 kB)\n",
            "Requirement already satisfied: requests<3,>=2.27 in /usr/local/lib/python3.10/dist-packages (from gtts) (2.32.3)\n",
            "Requirement already satisfied: click<8.2,>=7.1 in /usr/local/lib/python3.10/dist-packages (from gtts) (8.1.7)\n",
            "Requirement already satisfied: charset-normalizer<4,>=2 in /usr/local/lib/python3.10/dist-packages (from requests<3,>=2.27->gtts) (3.3.2)\n",
            "Requirement already satisfied: idna<4,>=2.5 in /usr/local/lib/python3.10/dist-packages (from requests<3,>=2.27->gtts) (3.10)\n",
            "Requirement already satisfied: urllib3<3,>=1.21.1 in /usr/local/lib/python3.10/dist-packages (from requests<3,>=2.27->gtts) (2.2.3)\n",
            "Requirement already satisfied: certifi>=2017.4.17 in /usr/local/lib/python3.10/dist-packages (from requests<3,>=2.27->gtts) (2024.8.30)\n",
            "Downloading gTTS-2.5.3-py3-none-any.whl (29 kB)\n",
            "Installing collected packages: gtts\n",
            "Successfully installed gtts-2.5.3\n",
            "Collecting playsound\n",
            "  Downloading playsound-1.3.0.tar.gz (7.7 kB)\n",
            "  Preparing metadata (setup.py) ... \u001b[?25l\u001b[?25hdone\n",
            "Building wheels for collected packages: playsound\n",
            "  Building wheel for playsound (setup.py) ... \u001b[?25l\u001b[?25hdone\n",
            "  Created wheel for playsound: filename=playsound-1.3.0-py3-none-any.whl size=7020 sha256=36de22be3bb692c18abdefb06a017d6c89b8a20f5f0f8a870e036afc943b3f33\n",
            "  Stored in directory: /root/.cache/pip/wheels/90/89/ed/2d643f4226fc8c7c9156fc28abd8051e2d2c0de37ae51ac45c\n",
            "Successfully built playsound\n",
            "Installing collected packages: playsound\n",
            "Successfully installed playsound-1.3.0\n"
          ]
        },
        {
          "output_type": "stream",
          "name": "stderr",
          "text": [
            "WARNING:playsound:playsound is relying on another python subprocess. Please use `pip install pygobject` if you want playsound to run more efficiently.\n"
          ]
        },
        {
          "output_type": "error",
          "ename": "CalledProcessError",
          "evalue": "Command '['/usr/bin/python3', '/usr/local/lib/python3.10/dist-packages/playsound.py', 'environment_protection.mp3']' returned non-zero exit status 1.",
          "traceback": [
            "\u001b[0;31m---------------------------------------------------------------------------\u001b[0m",
            "\u001b[0;31mCalledProcessError\u001b[0m                        Traceback (most recent call last)",
            "\u001b[0;32m<ipython-input-1-a966932e9a28>\u001b[0m in \u001b[0;36m<cell line: 22>\u001b[0;34m()\u001b[0m\n\u001b[1;32m     20\u001b[0m \u001b[0;34m\u001b[0m\u001b[0m\n\u001b[1;32m     21\u001b[0m \u001b[0;31m# 음성 재생\u001b[0m\u001b[0;34m\u001b[0m\u001b[0;34m\u001b[0m\u001b[0m\n\u001b[0;32m---> 22\u001b[0;31m \u001b[0mplaysound\u001b[0m\u001b[0;34m.\u001b[0m\u001b[0mplaysound\u001b[0m\u001b[0;34m(\u001b[0m\u001b[0maudio_file\u001b[0m\u001b[0;34m)\u001b[0m\u001b[0;34m\u001b[0m\u001b[0;34m\u001b[0m\u001b[0m\n\u001b[0m\u001b[1;32m     23\u001b[0m \u001b[0;34m\u001b[0m\u001b[0m\n\u001b[1;32m     24\u001b[0m \u001b[0;31m# 문제 및 선택지 출력\u001b[0m\u001b[0;34m\u001b[0m\u001b[0;34m\u001b[0m\u001b[0m\n",
            "\u001b[0;32m/usr/local/lib/python3.10/dist-packages/playsound.py\u001b[0m in \u001b[0;36m<lambda>\u001b[0;34m(sound, block)\u001b[0m\n\u001b[1;32m    252\u001b[0m         \u001b[0;32mexcept\u001b[0m\u001b[0;34m:\u001b[0m\u001b[0;34m\u001b[0m\u001b[0;34m\u001b[0m\u001b[0m\n\u001b[1;32m    253\u001b[0m             \u001b[0mlogger\u001b[0m\u001b[0;34m.\u001b[0m\u001b[0mwarning\u001b[0m\u001b[0;34m(\u001b[0m\u001b[0;34m\"playsound is relying on another python subprocess. Please use `pip install pygobject` if you want playsound to run more efficiently.\"\u001b[0m\u001b[0;34m)\u001b[0m\u001b[0;34m\u001b[0m\u001b[0;34m\u001b[0m\u001b[0m\n\u001b[0;32m--> 254\u001b[0;31m             \u001b[0mplaysound\u001b[0m \u001b[0;34m=\u001b[0m \u001b[0;32mlambda\u001b[0m \u001b[0msound\u001b[0m\u001b[0;34m,\u001b[0m \u001b[0mblock\u001b[0m \u001b[0;34m=\u001b[0m \u001b[0;32mTrue\u001b[0m\u001b[0;34m:\u001b[0m \u001b[0m_playsoundAnotherPython\u001b[0m\u001b[0;34m(\u001b[0m\u001b[0;34m'/usr/bin/python3'\u001b[0m\u001b[0;34m,\u001b[0m \u001b[0msound\u001b[0m\u001b[0;34m,\u001b[0m \u001b[0mblock\u001b[0m\u001b[0;34m,\u001b[0m \u001b[0mmacOS\u001b[0m \u001b[0;34m=\u001b[0m \u001b[0;32mFalse\u001b[0m\u001b[0;34m)\u001b[0m\u001b[0;34m\u001b[0m\u001b[0;34m\u001b[0m\u001b[0m\n\u001b[0m\u001b[1;32m    255\u001b[0m \u001b[0;34m\u001b[0m\u001b[0m\n\u001b[1;32m    256\u001b[0m \u001b[0;32mdel\u001b[0m \u001b[0msystem\u001b[0m\u001b[0;34m\u001b[0m\u001b[0;34m\u001b[0m\u001b[0m\n",
            "\u001b[0;32m/usr/local/lib/python3.10/dist-packages/playsound.py\u001b[0m in \u001b[0;36m_playsoundAnotherPython\u001b[0;34m(otherPython, sound, block, macOS)\u001b[0m\n\u001b[1;32m    227\u001b[0m     \u001b[0mt\u001b[0m\u001b[0;34m.\u001b[0m\u001b[0mstart\u001b[0m\u001b[0;34m(\u001b[0m\u001b[0;34m)\u001b[0m\u001b[0;34m\u001b[0m\u001b[0;34m\u001b[0m\u001b[0m\n\u001b[1;32m    228\u001b[0m     \u001b[0;32mif\u001b[0m \u001b[0mblock\u001b[0m\u001b[0;34m:\u001b[0m\u001b[0;34m\u001b[0m\u001b[0;34m\u001b[0m\u001b[0m\n\u001b[0;32m--> 229\u001b[0;31m         \u001b[0mt\u001b[0m\u001b[0;34m.\u001b[0m\u001b[0mjoin\u001b[0m\u001b[0;34m(\u001b[0m\u001b[0;34m)\u001b[0m\u001b[0;34m\u001b[0m\u001b[0;34m\u001b[0m\u001b[0m\n\u001b[0m\u001b[1;32m    230\u001b[0m \u001b[0;34m\u001b[0m\u001b[0m\n\u001b[1;32m    231\u001b[0m \u001b[0;32mfrom\u001b[0m \u001b[0mplatform\u001b[0m \u001b[0;32mimport\u001b[0m \u001b[0msystem\u001b[0m\u001b[0;34m\u001b[0m\u001b[0;34m\u001b[0m\u001b[0m\n",
            "\u001b[0;32m/usr/local/lib/python3.10/dist-packages/playsound.py\u001b[0m in \u001b[0;36mjoin\u001b[0;34m(self, timeout)\u001b[0m\n\u001b[1;32m    216\u001b[0m             \u001b[0msuper\u001b[0m\u001b[0;34m(\u001b[0m\u001b[0;34m)\u001b[0m\u001b[0;34m.\u001b[0m\u001b[0mjoin\u001b[0m\u001b[0;34m(\u001b[0m\u001b[0mtimeout\u001b[0m\u001b[0;34m)\u001b[0m\u001b[0;34m\u001b[0m\u001b[0;34m\u001b[0m\u001b[0m\n\u001b[1;32m    217\u001b[0m             \u001b[0;32mif\u001b[0m \u001b[0mself\u001b[0m\u001b[0;34m.\u001b[0m\u001b[0mexc\u001b[0m\u001b[0;34m:\u001b[0m\u001b[0;34m\u001b[0m\u001b[0;34m\u001b[0m\u001b[0m\n\u001b[0;32m--> 218\u001b[0;31m                 \u001b[0;32mraise\u001b[0m \u001b[0mself\u001b[0m\u001b[0;34m.\u001b[0m\u001b[0mexc\u001b[0m\u001b[0;34m\u001b[0m\u001b[0;34m\u001b[0m\u001b[0m\n\u001b[0m\u001b[1;32m    219\u001b[0m             \u001b[0;32mreturn\u001b[0m \u001b[0mself\u001b[0m\u001b[0;34m.\u001b[0m\u001b[0mret\u001b[0m\u001b[0;34m\u001b[0m\u001b[0;34m\u001b[0m\u001b[0m\n\u001b[1;32m    220\u001b[0m \u001b[0;34m\u001b[0m\u001b[0m\n",
            "\u001b[0;32m/usr/local/lib/python3.10/dist-packages/playsound.py\u001b[0m in \u001b[0;36mrun\u001b[0;34m(self)\u001b[0m\n\u001b[1;32m    209\u001b[0m             \u001b[0mself\u001b[0m\u001b[0;34m.\u001b[0m\u001b[0mexc\u001b[0m \u001b[0;34m=\u001b[0m \u001b[0;32mNone\u001b[0m\u001b[0;34m\u001b[0m\u001b[0;34m\u001b[0m\u001b[0m\n\u001b[1;32m    210\u001b[0m             \u001b[0;32mtry\u001b[0m\u001b[0;34m:\u001b[0m\u001b[0;34m\u001b[0m\u001b[0;34m\u001b[0m\u001b[0m\n\u001b[0;32m--> 211\u001b[0;31m                 \u001b[0mself\u001b[0m\u001b[0;34m.\u001b[0m\u001b[0mret\u001b[0m \u001b[0;34m=\u001b[0m \u001b[0mself\u001b[0m\u001b[0;34m.\u001b[0m\u001b[0m_target\u001b[0m\u001b[0;34m(\u001b[0m\u001b[0;34m*\u001b[0m\u001b[0mself\u001b[0m\u001b[0;34m.\u001b[0m\u001b[0m_args\u001b[0m\u001b[0;34m,\u001b[0m \u001b[0;34m**\u001b[0m\u001b[0mself\u001b[0m\u001b[0;34m.\u001b[0m\u001b[0m_kwargs\u001b[0m\u001b[0;34m)\u001b[0m\u001b[0;34m\u001b[0m\u001b[0;34m\u001b[0m\u001b[0m\n\u001b[0m\u001b[1;32m    212\u001b[0m             \u001b[0;32mexcept\u001b[0m \u001b[0mBaseException\u001b[0m \u001b[0;32mas\u001b[0m \u001b[0me\u001b[0m\u001b[0;34m:\u001b[0m\u001b[0;34m\u001b[0m\u001b[0;34m\u001b[0m\u001b[0m\n\u001b[1;32m    213\u001b[0m                 \u001b[0mself\u001b[0m\u001b[0;34m.\u001b[0m\u001b[0mexc\u001b[0m \u001b[0;34m=\u001b[0m \u001b[0me\u001b[0m\u001b[0;34m\u001b[0m\u001b[0;34m\u001b[0m\u001b[0m\n",
            "\u001b[0;32m/usr/local/lib/python3.10/dist-packages/playsound.py\u001b[0m in \u001b[0;36m<lambda>\u001b[0;34m()\u001b[0m\n\u001b[1;32m    224\u001b[0m \u001b[0;34m\u001b[0m\u001b[0m\n\u001b[1;32m    225\u001b[0m     \u001b[0mplaysoundPath\u001b[0m \u001b[0;34m=\u001b[0m \u001b[0mabspath\u001b[0m\u001b[0;34m(\u001b[0m\u001b[0mgetsourcefile\u001b[0m\u001b[0;34m(\u001b[0m\u001b[0;32mlambda\u001b[0m\u001b[0;34m:\u001b[0m \u001b[0;36m0\u001b[0m\u001b[0;34m)\u001b[0m\u001b[0;34m)\u001b[0m\u001b[0;34m\u001b[0m\u001b[0;34m\u001b[0m\u001b[0m\n\u001b[0;32m--> 226\u001b[0;31m     \u001b[0mt\u001b[0m \u001b[0;34m=\u001b[0m \u001b[0mPropogatingThread\u001b[0m\u001b[0;34m(\u001b[0m\u001b[0mtarget\u001b[0m \u001b[0;34m=\u001b[0m \u001b[0;32mlambda\u001b[0m\u001b[0;34m:\u001b[0m \u001b[0mcheck_call\u001b[0m\u001b[0;34m(\u001b[0m\u001b[0;34m[\u001b[0m\u001b[0motherPython\u001b[0m\u001b[0;34m,\u001b[0m \u001b[0mplaysoundPath\u001b[0m\u001b[0;34m,\u001b[0m \u001b[0m_handlePathOSX\u001b[0m\u001b[0;34m(\u001b[0m\u001b[0msound\u001b[0m\u001b[0;34m)\u001b[0m \u001b[0;32mif\u001b[0m \u001b[0mmacOS\u001b[0m \u001b[0;32melse\u001b[0m \u001b[0msound\u001b[0m\u001b[0;34m]\u001b[0m\u001b[0;34m)\u001b[0m\u001b[0;34m)\u001b[0m\u001b[0;34m\u001b[0m\u001b[0;34m\u001b[0m\u001b[0m\n\u001b[0m\u001b[1;32m    227\u001b[0m     \u001b[0mt\u001b[0m\u001b[0;34m.\u001b[0m\u001b[0mstart\u001b[0m\u001b[0;34m(\u001b[0m\u001b[0;34m)\u001b[0m\u001b[0;34m\u001b[0m\u001b[0;34m\u001b[0m\u001b[0m\n\u001b[1;32m    228\u001b[0m     \u001b[0;32mif\u001b[0m \u001b[0mblock\u001b[0m\u001b[0;34m:\u001b[0m\u001b[0;34m\u001b[0m\u001b[0;34m\u001b[0m\u001b[0m\n",
            "\u001b[0;32m/usr/lib/python3.10/subprocess.py\u001b[0m in \u001b[0;36mcheck_call\u001b[0;34m(*popenargs, **kwargs)\u001b[0m\n\u001b[1;32m    367\u001b[0m         \u001b[0;32mif\u001b[0m \u001b[0mcmd\u001b[0m \u001b[0;32mis\u001b[0m \u001b[0;32mNone\u001b[0m\u001b[0;34m:\u001b[0m\u001b[0;34m\u001b[0m\u001b[0;34m\u001b[0m\u001b[0m\n\u001b[1;32m    368\u001b[0m             \u001b[0mcmd\u001b[0m \u001b[0;34m=\u001b[0m \u001b[0mpopenargs\u001b[0m\u001b[0;34m[\u001b[0m\u001b[0;36m0\u001b[0m\u001b[0;34m]\u001b[0m\u001b[0;34m\u001b[0m\u001b[0;34m\u001b[0m\u001b[0m\n\u001b[0;32m--> 369\u001b[0;31m         \u001b[0;32mraise\u001b[0m \u001b[0mCalledProcessError\u001b[0m\u001b[0;34m(\u001b[0m\u001b[0mretcode\u001b[0m\u001b[0;34m,\u001b[0m \u001b[0mcmd\u001b[0m\u001b[0;34m)\u001b[0m\u001b[0;34m\u001b[0m\u001b[0;34m\u001b[0m\u001b[0m\n\u001b[0m\u001b[1;32m    370\u001b[0m     \u001b[0;32mreturn\u001b[0m \u001b[0;36m0\u001b[0m\u001b[0;34m\u001b[0m\u001b[0;34m\u001b[0m\u001b[0m\n\u001b[1;32m    371\u001b[0m \u001b[0;34m\u001b[0m\u001b[0m\n",
            "\u001b[0;31mCalledProcessError\u001b[0m: Command '['/usr/bin/python3', '/usr/local/lib/python3.10/dist-packages/playsound.py', 'environment_protection.mp3']' returned non-zero exit status 1."
          ]
        }
      ],
      "source": [
        "# 필요한 라이브러리 설치\n",
        "!pip install gtts\n",
        "!pip install playsound\n",
        "\n",
        "# 필요한 라이브러리 임포트\n",
        "from gtts import gTTS\n",
        "import os\n",
        "import playsound\n",
        "\n",
        "# 지문 내용\n",
        "text = (\"Recycling is important for protecting our environment. \"\n",
        "        \"It helps reduce waste and saves energy. By recycling materials \"\n",
        "        \"like paper, plastic, and metal, we can lessen pollution and conserve \"\n",
        "        \"natural resources. Everyone can contribute by recycling at home and school.\")\n",
        "\n",
        "# 텍스트를 음성으로 변환\n",
        "tts = gTTS(text=text, lang='en')\n",
        "audio_file = \"environment_protection.mp3\"\n",
        "tts.save(audio_file)\n",
        "\n",
        "# 음성 재생\n",
        "playsound.playsound(audio_file)\n",
        "\n",
        "# 문제 및 선택지 출력\n",
        "print(\"문제: What is the main benefit of recycling?\")\n",
        "print(\"A) It creates more waste.\")\n",
        "print(\"B) It saves energy.\")\n",
        "print(\"C) It uses more resources.\")\n",
        "print(\"D) It increases pollution.\")\n",
        "\n",
        "# 사용자 입력 받기\n",
        "answer = input(\"정답을 입력하세요 (A, B, C, D): \").strip().upper()\n",
        "\n",
        "# 정답 확인\n",
        "correct_answer = \"B\"\n",
        "if answer == correct_answer:\n",
        "    print(\"정답입니다! 잘 했어요!\")\n",
        "else:\n",
        "    print(\"틀렸습니다. 정답은 B) It saves energy입니다.\")\n"
      ]
    },
    {
      "cell_type": "markdown",
      "source": [
        "### (파이썬 실행 에러발생)\n",
        "- sample prompt: 코랩에서 코드 실행더니 아래 같은 오류가 나와. 오류 수정해줘\n",
        "\n",
        "CalledProcessError                        Traceback (most recent call last)\n",
        "<ipython-input-1-a966932e9a28> in <cell line: 22>()\n",
        "     20\n",
        "     21 # 음성 재생\n",
        "---> 22 playsound.playsound(audio_file)\n",
        "     23\n",
        "     24 # 문제 및 선택지 출력\n",
        "\n",
        "5 frames\n",
        "/usr/lib/python3.10/subprocess.py in check_call(*popenargs, **kwargs)\n",
        "    367         if cmd is None:\n",
        "    368             cmd = popenargs[0]\n",
        "--> 369         raise CalledProcessError(retcode, cmd)\n",
        "    370     return 0\n",
        "    371\n",
        "\n",
        "CalledProcessError: Command '['/usr/bin/python3', '/usr/local/lib/python3.10/dist-packages/playsound.py', 'environment_protection.mp3']' returned non-zero exit status 1."
      ],
      "metadata": {
        "id": "lTmFdguc0tg7"
      }
    },
    {
      "cell_type": "code",
      "source": [
        "# 필요한 라이브러리 설치\n",
        "!pip install gtts\n",
        "\n",
        "# 필요한 라이브러리 임포트\n",
        "from gtts import gTTS\n",
        "from IPython.display import Audio, display\n",
        "\n",
        "# 지문 내용\n",
        "text = (\"Recycling is important for protecting our environment. \"\n",
        "        \"It helps reduce waste and saves energy. By recycling materials \"\n",
        "        \"like paper, plastic, and metal, we can lessen pollution and conserve \"\n",
        "        \"natural resources. Everyone can contribute by recycling at home and school.\")\n",
        "\n",
        "# 텍스트를 음성으로 변환\n",
        "tts = gTTS(text=text, lang='en')\n",
        "audio_file = \"environment_protection.mp3\"\n",
        "tts.save(audio_file)\n",
        "\n",
        "# 음성 재생\n",
        "display(Audio(audio_file, autoplay=True))\n",
        "\n",
        "# 문제 및 선택지 출력\n",
        "print(\"문제: What is the main benefit of recycling?\")\n",
        "print(\"A) It creates more waste.\")\n",
        "print(\"B) It saves energy.\")\n",
        "print(\"C) It uses more resources.\")\n",
        "print(\"D) It increases pollution.\")\n",
        "\n",
        "# 사용자 입력 받기\n",
        "answer = input(\"정답을 입력하세요 (A, B, C, D): \").strip().upper()\n",
        "\n",
        "# 정답 확인\n",
        "correct_answer = \"B\"\n",
        "if answer == correct_answer:\n",
        "    print(\"정답입니다! 잘 했어요!\")\n",
        "else:\n",
        "    print(\"틀렸습니다. 정답은 B) It saves energy입니다.\")\n"
      ],
      "metadata": {
        "id": "FIOy4tzzwEqT"
      },
      "execution_count": null,
      "outputs": []
    },
    {
      "cell_type": "markdown",
      "source": [
        "##Step3: App으로 변환\n",
        "\n",
        "-sample prompt:\n",
        "- 작동이 잘 되네. 고마워. 이걸 gradio에서 app형식으로 학생들에게 보여주고 싶어. gradio에서 작동하는 코드 추가해서 부탁해."
      ],
      "metadata": {
        "id": "ef72y5611Ckb"
      }
    },
    {
      "cell_type": "code",
      "source": [
        "# 필요한 라이브러리 설치\n",
        "!pip install gtts gradio\n",
        "\n",
        "# 필요한 라이브러리 임포트\n",
        "from gtts import gTTS\n",
        "import gradio as gr\n",
        "import os\n",
        "\n",
        "# 지문 내용\n",
        "text = (\"Recycling is important for protecting our environment. \"\n",
        "        \"It helps reduce waste and saves energy. By recycling materials \"\n",
        "        \"like paper, plastic, and metal, we can lessen pollution and conserve \"\n",
        "        \"natural resources. Everyone can contribute by recycling at home and school.\")\n",
        "\n",
        "# 텍스트를 음성으로 변환하는 함수\n",
        "def generate_audio():\n",
        "    tts = gTTS(text=text, lang='en')\n",
        "    audio_file = \"environment_protection.mp3\"\n",
        "    tts.save(audio_file)\n",
        "    return audio_file\n",
        "\n",
        "# 정답 확인 함수\n",
        "def check_answer(answer):\n",
        "    correct_answer = \"B\"\n",
        "    if answer.strip().upper() == correct_answer:\n",
        "        return \"정답입니다! 잘 했어요!\"\n",
        "    else:\n",
        "        return \"틀렸습니다. 정답은 B) It saves energy입니다.\"\n",
        "\n",
        "# Gradio 인터페이스 구성\n",
        "with gr.Blocks() as app:\n",
        "    gr.Markdown(\"### 영어 듣기 문제\")\n",
        "\n",
        "    # 오디오 재생\n",
        "    audio_file = generate_audio()\n",
        "    gr.Audio(audio_file, label=\"지문 듣기\", type=\"filepath\")\n",
        "\n",
        "    gr.Markdown(\"**문제:** What is the main benefit of recycling?\")\n",
        "    gr.Markdown(\"A) It creates more waste.  \\nB) It saves energy.  \\nC) It uses more resources.  \\nD) It increases pollution.\")\n",
        "\n",
        "    # 답변 입력\n",
        "    answer_input = gr.Textbox(label=\"정답을 입력하세요 (A, B, C, D):\")\n",
        "\n",
        "    # 정답 확인 버튼\n",
        "    submit_button = gr.Button(\"제출\")\n",
        "\n",
        "    # 결과 출력\n",
        "    result_output = gr.Label()\n",
        "\n",
        "    # 버튼 클릭 시 정답 확인\n",
        "    submit_button.click(check_answer, inputs=answer_input, outputs=result_output)\n",
        "\n",
        "# 앱 실행\n",
        "app.launch()\n"
      ],
      "metadata": {
        "id": "HK3P-XHCwhbq"
      },
      "execution_count": null,
      "outputs": []
    }
  ]
}