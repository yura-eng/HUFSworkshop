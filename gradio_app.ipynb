{
  "nbformat": 4,
  "nbformat_minor": 0,
  "metadata": {
    "colab": {
      "provenance": [],
      "gpuType": "T4",
      "include_colab_link": true
    },
    "kernelspec": {
      "name": "python3",
      "display_name": "Python 3"
    },
    "language_info": {
      "name": "python"
    },
    "accelerator": "GPU"
  },
  "cells": [
    {
      "cell_type": "markdown",
      "metadata": {
        "id": "view-in-github",
        "colab_type": "text"
      },
      "source": [
        "<a href=\"https://colab.research.google.com/github/yura-eng/HUFSworkshop/blob/main/gradio_app.ipynb\" target=\"_parent\"><img src=\"https://colab.research.google.com/assets/colab-badge.svg\" alt=\"Open In Colab\"/></a>"
      ]
    },
    {
      "cell_type": "markdown",
      "source": [
        "# Python to app: Gradio\n",
        "##[Gradio webpage](https://www.gradio.app/)"
      ],
      "metadata": {
        "id": "rRhNTjEgE6RU"
      }
    },
    {
      "cell_type": "markdown",
      "source": [
        "##1.  간단한 더하기 계산기 app"
      ],
      "metadata": {
        "id": "kOYjGtGuFAqp"
      }
    },
    {
      "cell_type": "code",
      "source": [
        "def sum(a, b):\n",
        "\n",
        "  c = int(a + b)\n",
        "  c = '정답은 ' + str(c) + '입니다'\n",
        "  return c"
      ],
      "metadata": {
        "id": "yiE0veE7FI6n"
      },
      "execution_count": null,
      "outputs": []
    },
    {
      "cell_type": "code",
      "source": [
        "sum(2,3)"
      ],
      "metadata": {
        "id": "QSFJnRemFS-P"
      },
      "execution_count": null,
      "outputs": []
    },
    {
      "cell_type": "code",
      "source": [
        "!pip install gradio"
      ],
      "metadata": {
        "id": "q2570kgRFW7d"
      },
      "execution_count": null,
      "outputs": []
    },
    {
      "cell_type": "code",
      "source": [
        "import gradio as gr"
      ],
      "metadata": {
        "id": "bgjbs1LyFakY"
      },
      "execution_count": null,
      "outputs": []
    },
    {
      "cell_type": "code",
      "source": [
        "iface = gr.Interface(sum, inputs = [\"number\", \"number\"], outputs = [\"text\"])\n",
        "iface.launch()"
      ],
      "metadata": {
        "id": "6RpePuUMFiqD"
      },
      "execution_count": null,
      "outputs": []
    },
    {
      "cell_type": "markdown",
      "source": [
        "## 2. Wordcloud app"
      ],
      "metadata": {
        "id": "3tfX6iDSEyMB"
      }
    },
    {
      "cell_type": "markdown",
      "source": [
        "### Sample text\n",
        "- At the heart of Trump’s designs is a plan to concentrate the powers of the federal government inside the office of the presidency. His most ambitious proposals, he says, would be implemented through executive action: shutting down the southern border and initiating mass deportations of migrants; imposing across-the-board tariffs on imported goods; and withdrawing the U.S. from its role as a bulwark against tyranny abroad. He would attempt to castrate the federal bureaucracy by firing civil servants at will, and he would aim to neutralize Capitol Hill’s power of the purse by controlling congressionally-appropriated funds. To further his vision of enhanced executive authority, Trump would staff his Administration with acolytes committed to removing the guardrails that persisted in his first term. “The President never had a policy process that was designed to give him what he actually wanted,” says Russ Vought, Trump’s former Office of Management and Budget director who now heads a think tank preparing for a second Trump term. “You had various institutional obstacles.”"
      ],
      "metadata": {
        "id": "sQb6DZuXJb-c"
      }
    },
    {
      "cell_type": "code",
      "source": [
        "# Step 1: Install required libraries in Colab\n",
        "!pip install gradio wordcloud matplotlib\n",
        "\n",
        "# Step 2: Import the necessary libraries\n",
        "import gradio as gr\n",
        "from wordcloud import WordCloud\n",
        "import matplotlib.pyplot as plt\n",
        "import re\n",
        "import numpy as np\n",
        "from io import BytesIO\n",
        "from PIL import Image\n",
        "\n",
        "# Step 3: Define a function to create the word cloud\n",
        "def generate_wordcloud(text):\n",
        "    # Basic text cleaning: remove special characters and limit text size\n",
        "    text = re.sub(r'[^a-zA-Z\\s]', '', text)  # Remove special characters\n",
        "    if len(text) > 5000:  # Limit the length of the text to prevent errors\n",
        "        text = text[:5000]\n",
        "\n",
        "    try:\n",
        "        # Create a WordCloud object\n",
        "        wordcloud = WordCloud(width=800, height=400, background_color='white').generate(text)\n",
        "\n",
        "        # Convert the WordCloud to an image format that Gradio can display directly\n",
        "        image = wordcloud.to_image()\n",
        "        return image\n",
        "    except Exception as e:\n",
        "        print(f\"Error generating word cloud: {e}\")\n",
        "        return None\n",
        "\n",
        "# Step 4: Set up the Gradio interface\n",
        "interface = gr.Interface(fn=generate_wordcloud,\n",
        "                         inputs=\"text\",\n",
        "                         outputs=\"image\",\n",
        "                         title=\"Word Cloud Generator\",\n",
        "                         description=\"Enter some text to generate a word cloud of the most common words.\")\n",
        "\n",
        "# Step 5: Launch the app\n",
        "interface.launch()\n"
      ],
      "metadata": {
        "id": "Ph6V3UotEfUD"
      },
      "execution_count": null,
      "outputs": []
    },
    {
      "cell_type": "markdown",
      "source": [
        "#3. Sentence-by-sentence Read -Aloud practice"
      ],
      "metadata": {
        "id": "enKout4wIGcD"
      }
    },
    {
      "cell_type": "markdown",
      "source": [
        "###Sample text\n",
        "\n",
        "In the small mountain village of Echo Ridge, adventure was a part of everyday life. Nestled among towering peaks, the village was said to be protected by the \"Guardian of the Glen,\" a massive eagle that supposedly watched over the villagers from its perch high in the mountains. The legend inspired many adventurous tales among the villagers, especially the children."
      ],
      "metadata": {
        "id": "ONUdORcHJEVM"
      }
    },
    {
      "cell_type": "markdown",
      "source": [
        "###Version 1. 입력부분 어색"
      ],
      "metadata": {
        "id": "AgfjVpU1Kzud"
      }
    },
    {
      "cell_type": "code",
      "source": [
        "!pip install gradio gtts nltk pypng"
      ],
      "metadata": {
        "id": "wOKAFUJsInCa"
      },
      "execution_count": null,
      "outputs": []
    },
    {
      "cell_type": "code",
      "source": [
        "#@markdown Gradio app for Read-Aloud practice (by sentences)\n",
        "import gradio as gr\n",
        "from gtts import gTTS\n",
        "from nltk import tokenize\n",
        "import os\n",
        "\n",
        "# Import necessary nltk libraries\n",
        "import nltk\n",
        "nltk.download('punkt')\n",
        "\n",
        "mytext = input()\n",
        "\n",
        "# Tokenize the predefined text into sentences\n",
        "sentences = tokenize.sent_tokenize(mytext)\n",
        "\n",
        "def generate_audio(selected_item):\n",
        "    index_str = selected_item.split('.')[0]\n",
        "    index = int(index_str) - 1  # Adjust for 0-based index\n",
        "\n",
        "    if 0 <= index < len(sentences):\n",
        "        sentence = sentences[index]\n",
        "        tts = gTTS(text=sentence, lang='en')\n",
        "        audio_path = f'sentence_{index + 1}.mp3'\n",
        "        tts.save(audio_path)\n",
        "        return audio_path\n",
        "    else:\n",
        "        return \"Invalid sentence number\"\n",
        "\n",
        "# Gradio interface\n",
        "iface = gr.Interface(\n",
        "    fn=generate_audio,\n",
        "    inputs=gr.Dropdown(choices=[f\"{i + 1}. {s}\" for i, s in enumerate(sentences)], label=\"Select Sentence\"),\n",
        "    outputs=gr.Audio(label=\"Audio of Selected Sentence\"),\n",
        "    title=\"Text to Audio by Sentence\",\n",
        "    description=\"Select a sentence number to hear it spoken.\"\n",
        ")\n",
        "\n",
        "iface.launch()\n"
      ],
      "metadata": {
        "id": "8k-H9lCnI0Re"
      },
      "execution_count": null,
      "outputs": []
    },
    {
      "cell_type": "markdown",
      "source": [
        "###Version 2. 입력부분 개선"
      ],
      "metadata": {
        "id": "ldo-1zx4K74e"
      }
    },
    {
      "cell_type": "code",
      "source": [
        "#@markdown Split sentences\n",
        "import gradio as gr\n",
        "from gtts import gTTS\n",
        "from nltk import tokenize\n",
        "import os\n",
        "\n",
        "# Import necessary nltk libraries\n",
        "import nltk\n",
        "nltk.download('punkt')\n",
        "\n",
        "# Global variable to store sentences\n",
        "sentences = []\n",
        "\n",
        "# Function to process text and generate sentence options\n",
        "def process_text(mytext):\n",
        "    global sentences\n",
        "    sentences = tokenize.sent_tokenize(mytext)\n",
        "    return [f\"{i + 1}. {s}\" for i, s in enumerate(sentences)]\n",
        "\n",
        "# Function to generate audio for the selected sentence\n",
        "def generate_audio(selected_item):\n",
        "    if not selected_item:\n",
        "        return None\n",
        "\n",
        "    index = int(selected_item.split('.')[0]) - 1  # Adjust for 0-based index\n",
        "\n",
        "    if 0 <= index < len(sentences):\n",
        "        sentence = sentences[index]\n",
        "        tts = gTTS(text=sentence, lang='en')\n",
        "        audio_path = f'sentence_{index + 1}.mp3'\n",
        "        tts.save(audio_path)\n",
        "        return audio_path\n",
        "    else:\n",
        "        return None\n",
        "\n",
        "# Function to update dropdown choices based on text input\n",
        "def update_dropdown(mytext):\n",
        "    choices = process_text(mytext)\n",
        "    return gr.update(choices=choices)\n",
        "\n",
        "# Create a Gradio Blocks app\n",
        "with gr.Blocks() as app:\n",
        "    with gr.Row():\n",
        "        textbox = gr.Textbox(label=\"Enter your text here\")\n",
        "    with gr.Row():\n",
        "        submit_button = gr.Button(\"Submit\")\n",
        "    with gr.Row():\n",
        "        dropdown = gr.Dropdown(choices=[], label=\"Select Sentence\")\n",
        "    with gr.Row():\n",
        "        audio_output = gr.Audio(label=\"Audio of Selected Sentence\")\n",
        "\n",
        "    submit_button.click(fn=update_dropdown, inputs=textbox, outputs=dropdown)\n",
        "    dropdown.change(fn=generate_audio, inputs=dropdown, outputs=audio_output)\n",
        "\n",
        "app.launch()\n"
      ],
      "metadata": {
        "id": "11eNfXIgKD2o"
      },
      "execution_count": null,
      "outputs": []
    },
    {
      "cell_type": "markdown",
      "source": [
        "###3. 입력부분 개선 - 전체문장 or 문장별"
      ],
      "metadata": {
        "id": "gKamKQynLNQc"
      }
    },
    {
      "cell_type": "code",
      "source": [
        "import gradio as gr\n",
        "from gtts import gTTS\n",
        "from nltk import tokenize\n",
        "import os\n",
        "\n",
        "# Import necessary nltk libraries\n",
        "import nltk\n",
        "nltk.download('punkt')\n",
        "\n",
        "# Global variable to store sentences and the entire text\n",
        "sentences = []\n",
        "full_text = \"\"\n",
        "\n",
        "# Function to process text and generate sentence options\n",
        "def process_text(mytext):\n",
        "    global sentences, full_text\n",
        "    full_text = mytext\n",
        "    sentences = tokenize.sent_tokenize(mytext)\n",
        "    choices = [\"Play the whole text\"] + [f\"{i + 1}. {s}\" for i, s in enumerate(sentences)]\n",
        "    return choices\n",
        "\n",
        "# Function to generate audio for the selected item\n",
        "def generate_audio(selected_item):\n",
        "    global full_text\n",
        "\n",
        "    if not selected_item:\n",
        "        return None\n",
        "\n",
        "    if selected_item == \"Play the whole text\":\n",
        "        tts = gTTS(text=full_text, lang='en')\n",
        "        audio_path = 'full_text.mp3'\n",
        "        tts.save(audio_path)\n",
        "        return audio_path\n",
        "\n",
        "    index = int(selected_item.split('.')[0]) - 1  # Adjust for 0-based index\n",
        "\n",
        "    if 0 <= index < len(sentences):\n",
        "        sentence = sentences[index]\n",
        "        tts = gTTS(text=sentence, lang='en')\n",
        "        audio_path = f'sentence_{index + 1}.mp3'\n",
        "        tts.save(audio_path)\n",
        "        return audio_path\n",
        "    else:\n",
        "        return None\n",
        "\n",
        "# Function to update dropdown choices based on text input\n",
        "def update_dropdown(mytext):\n",
        "    choices = process_text(mytext)\n",
        "    return gr.update(choices=choices)\n",
        "\n",
        "# Create a Gradio Blocks app\n",
        "with gr.Blocks() as app:\n",
        "    with gr.Row():\n",
        "        textbox = gr.Textbox(label=\"Enter your text here\")\n",
        "    with gr.Row():\n",
        "        submit_button = gr.Button(\"Submit\")\n",
        "    with gr.Row():\n",
        "        dropdown = gr.Dropdown(choices=[], label=\"Select Sentence\")\n",
        "    with gr.Row():\n",
        "        audio_output = gr.Audio(label=\"Audio of Selected Sentence\")\n",
        "\n",
        "    submit_button.click(fn=update_dropdown, inputs=textbox, outputs=dropdown)\n",
        "    dropdown.change(fn=generate_audio, inputs=dropdown, outputs=audio_output)\n",
        "\n",
        "app.launch()"
      ],
      "metadata": {
        "id": "IQUckGlsKeDx"
      },
      "execution_count": null,
      "outputs": []
    }
  ]
}