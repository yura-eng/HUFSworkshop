{
  "nbformat": 4,
  "nbformat_minor": 0,
  "metadata": {
    "colab": {
      "provenance": [],
      "gpuType": "T4",
      "include_colab_link": true
    },
    "kernelspec": {
      "name": "python3",
      "display_name": "Python 3"
    },
    "language_info": {
      "name": "python"
    },
    "accelerator": "GPU"
  },
  "cells": [
    {
      "cell_type": "markdown",
      "metadata": {
        "id": "view-in-github",
        "colab_type": "text"
      },
      "source": [
        "<a href=\"https://colab.research.google.com/github/yura-eng/HUFSworkshop/blob/main/simple_recorder.ipynb\" target=\"_parent\"><img src=\"https://colab.research.google.com/assets/colab-badge.svg\" alt=\"Open In Colab\"/></a>"
      ]
    },
    {
      "cell_type": "code",
      "execution_count": null,
      "metadata": {
        "id": "q2EnW1GOJdxt"
      },
      "outputs": [],
      "source": [
        "!pip install gradio"
      ]
    },
    {
      "cell_type": "markdown",
      "source": [
        "### Note that you need to use the live link (generated after running the code below) to use microphone (of your device).\n",
        "\n",
        "- This platform (google colab) doesn't allow direct microphone access from the user's device."
      ],
      "metadata": {
        "id": "HINAK48CJpuY"
      }
    },
    {
      "cell_type": "code",
      "source": [
        "import gradio as gr\n",
        "\n",
        "def process_audio(audio):\n",
        "    \"\"\"\n",
        "    Simply returns the audio data for download.\n",
        "    \"\"\"\n",
        "    return audio\n",
        "\n",
        "iface = gr.Interface(\n",
        "    fn=process_audio,\n",
        "    inputs=\"audio\",\n",
        "    outputs=\"audio\",\n",
        "    title=\"Simple Audio Recorder\",\n",
        "    description=\"Record your speech and download the recording in a wav format.\"\n",
        ")\n",
        "\n",
        "iface.launch()"
      ],
      "metadata": {
        "id": "njmT98SyJuh4"
      },
      "execution_count": null,
      "outputs": []
    }
  ]
}