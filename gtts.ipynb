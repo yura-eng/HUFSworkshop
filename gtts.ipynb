{
  "nbformat": 4,
  "nbformat_minor": 0,
  "metadata": {
    "colab": {
      "provenance": [],
      "include_colab_link": true
    },
    "kernelspec": {
      "name": "python3",
      "display_name": "Python 3"
    },
    "language_info": {
      "name": "python"
    },
    "accelerator": "GPU"
  },
  "cells": [
    {
      "cell_type": "markdown",
      "metadata": {
        "id": "view-in-github",
        "colab_type": "text"
      },
      "source": [
        "<a href=\"https://colab.research.google.com/github/yura-eng/HUFSworkshop/blob/main/gtts.ipynb\" target=\"_parent\"><img src=\"https://colab.research.google.com/assets/colab-badge.svg\" alt=\"Open In Colab\"/></a>"
      ]
    },
    {
      "cell_type": "code",
      "execution_count": null,
      "metadata": {
        "id": "PpP4TqVQsz56"
      },
      "outputs": [],
      "source": [
        "!pip install gTTS"
      ]
    },
    {
      "cell_type": "markdown",
      "source": [
        "[language code](https://developers.google.com/admin-sdk/directory/v1/languages)"
      ],
      "metadata": {
        "id": "hWSJOP6FyuMy"
      }
    },
    {
      "cell_type": "code",
      "source": [
        "from gtts import gTTS\n",
        "\n",
        "text_to_say = \"This is a sample piece of text read by gTTS.\"\n",
        "\n",
        "language = \"en\"\n",
        "\n",
        "gtts_object = gTTS (text = text_to_say,\n",
        "                    lang = language,\n",
        "                    slow = False)\n",
        "\n",
        "gtts_object.save(\"/content/eng_sample.mp4\")"
      ],
      "metadata": {
        "id": "OB6ezuxgtHdK"
      },
      "execution_count": null,
      "outputs": []
    },
    {
      "cell_type": "code",
      "source": [
        "from IPython.display import Audio\n",
        "Audio(\"/content/eng_sample.mp4\")"
      ],
      "metadata": {
        "id": "ONY45CFzvBVD"
      },
      "execution_count": null,
      "outputs": []
    },
    {
      "cell_type": "markdown",
      "source": [
        "[local accent code](https://gtts.readthedocs.io/en/latest/module.html#languages-gtts-lang)"
      ],
      "metadata": {
        "id": "FZ0z63EuxlTk"
      }
    },
    {
      "cell_type": "code",
      "source": [
        "from gtts import gTTS\n",
        "\n",
        "text_to_say = \"This is a sample piece of text read by gTTS.\"\n",
        "\n",
        "gtts_object = gTTS (text = text_to_say,\n",
        "                    lang = 'en',\n",
        "                    tld = 'com.au',\n",
        "                    slow = False)\n",
        "\n",
        "gtts_object.save(\"/content/aus_sample.mp4\")"
      ],
      "metadata": {
        "id": "2qal7B2owk1A"
      },
      "execution_count": null,
      "outputs": []
    },
    {
      "cell_type": "code",
      "source": [
        "from IPython.display import Audio\n",
        "Audio(\"/content/aus_sample.mp4\")"
      ],
      "metadata": {
        "id": "yQqzhf5Iw7Tv"
      },
      "execution_count": null,
      "outputs": []
    }
  ]
}