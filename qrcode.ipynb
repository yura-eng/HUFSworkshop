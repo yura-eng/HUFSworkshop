{
  "nbformat": 4,
  "nbformat_minor": 0,
  "metadata": {
    "colab": {
      "provenance": [],
      "include_colab_link": true
    },
    "kernelspec": {
      "name": "python3",
      "display_name": "Python 3"
    },
    "language_info": {
      "name": "python"
    }
  },
  "cells": [
    {
      "cell_type": "markdown",
      "metadata": {
        "id": "view-in-github",
        "colab_type": "text"
      },
      "source": [
        "<a href=\"https://colab.research.google.com/github/yura-eng/HUFSworkshop/blob/main/qrcode.ipynb\" target=\"_parent\"><img src=\"https://colab.research.google.com/assets/colab-badge.svg\" alt=\"Open In Colab\"/></a>"
      ]
    },
    {
      "cell_type": "markdown",
      "source": [
        "# 🐝  Generate QR code (svg file) and display"
      ],
      "metadata": {
        "id": "vOBZFwf7OpwX"
      }
    },
    {
      "cell_type": "code",
      "execution_count": null,
      "metadata": {
        "id": "7t8DinqNOkCt"
      },
      "outputs": [],
      "source": [
        "#Install {pyqrcode} and enter link address\n",
        "!pip install pyqrcode pypng\n",
        "\n",
        "import pyqrcode\n",
        "from pyqrcode import QRCode\n"
      ]
    },
    {
      "cell_type": "code",
      "source": [
        "#@markdown Enter the link, save it as a file, and display\n",
        "s = input(\"Paste the link: \")\n",
        "\n",
        "# Generate QR code\n",
        "url = pyqrcode.create(s)\n",
        "\n",
        "# Create and save the png file naming \"myqr.png\"\n",
        "url.png(\"myqrcode.png\", scale=10)\n",
        "\n",
        "from IPython.display import Image, display\n",
        "def show_png(file):\n",
        "    display(Image(file))\n",
        "\n",
        "show_png(\"myqrcode.png\")\n"
      ],
      "metadata": {
        "id": "VXK1Owp0PCX3"
      },
      "execution_count": null,
      "outputs": []
    }
  ]
}