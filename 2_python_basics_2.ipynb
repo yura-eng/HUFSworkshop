{
  "nbformat": 4,
  "nbformat_minor": 0,
  "metadata": {
    "colab": {
      "provenance": [],
      "gpuType": "T4",
      "include_colab_link": true
    },
    "kernelspec": {
      "name": "python3",
      "display_name": "Python 3"
    },
    "language_info": {
      "name": "python"
    },
    "accelerator": "GPU"
  },
  "cells": [
    {
      "cell_type": "markdown",
      "metadata": {
        "id": "view-in-github",
        "colab_type": "text"
      },
      "source": [
        "<a href=\"https://colab.research.google.com/github/yura-eng/HUFSworkshop/blob/main/2_python_basics_2.ipynb\" target=\"_parent\"><img src=\"https://colab.research.google.com/assets/colab-badge.svg\" alt=\"Open In Colab\"/></a>"
      ]
    },
    {
      "cell_type": "markdown",
      "source": [
        "by virtue of Dr. Hosung Nam (Korea Univ.)"
      ],
      "metadata": {
        "id": "imXBIs83iVge"
      }
    },
    {
      "cell_type": "markdown",
      "source": [
        "#String & List review"
      ],
      "metadata": {
        "id": "dqirTiaQHDu9"
      }
    },
    {
      "cell_type": "code",
      "source": [
        "s = 'abcdef'\n",
        "print(type(s))"
      ],
      "metadata": {
        "id": "jgR3p0_XIlZx"
      },
      "execution_count": null,
      "outputs": []
    },
    {
      "cell_type": "code",
      "execution_count": null,
      "metadata": {
        "id": "BZG-kkwTGpWA"
      },
      "outputs": [],
      "source": [
        "print(s[0], s[5], s[-1], s[-6])\n",
        "print(s[1:3], s[1:], s[:3], s[:])"
      ]
    },
    {
      "cell_type": "code",
      "source": [
        "n = [100, 200, 300]\n",
        "print(type(n))"
      ],
      "metadata": {
        "id": "8Ih6XD4PI04f"
      },
      "execution_count": null,
      "outputs": []
    },
    {
      "cell_type": "code",
      "source": [
        "print(n[0], n[2], n[-1], n[-3])\n",
        "print(n[1:2], n[1:], n[:2], n[:])"
      ],
      "metadata": {
        "id": "rl6SCJwAHRB4"
      },
      "execution_count": null,
      "outputs": []
    },
    {
      "cell_type": "code",
      "source": [
        "len(s)"
      ],
      "metadata": {
        "id": "7OmRbwoIHeAz"
      },
      "execution_count": null,
      "outputs": []
    },
    {
      "cell_type": "code",
      "source": [
        "s[1]+s[3]+s[4:]*10"
      ],
      "metadata": {
        "id": "GelaSzRoHlMA"
      },
      "execution_count": null,
      "outputs": []
    },
    {
      "cell_type": "code",
      "source": [
        "s.upper()"
      ],
      "metadata": {
        "id": "sU0WRlAnHnzD"
      },
      "execution_count": null,
      "outputs": []
    },
    {
      "cell_type": "code",
      "source": [
        "k = ' this is a house built this year.\\n'\n",
        "k"
      ],
      "metadata": {
        "id": "nPM4U2BrHx5c"
      },
      "execution_count": null,
      "outputs": []
    },
    {
      "cell_type": "code",
      "source": [
        "result = k.find('house') \t    # index of first instance of string; return index\n",
        "result"
      ],
      "metadata": {
        "id": "g8H5FjaIIBP2"
      },
      "execution_count": null,
      "outputs": []
    },
    {
      "cell_type": "code",
      "source": [
        "result = k.find('this')\t      # index of first instance of string; return index\n",
        "result"
      ],
      "metadata": {
        "id": "g5Zcx120ILwi"
      },
      "execution_count": null,
      "outputs": []
    },
    {
      "cell_type": "code",
      "source": [
        "j = k.strip()      \t          # a copy of s without leading or trailing whitespace\n",
        "j"
      ],
      "metadata": {
        "id": "cx-PZI5yJOIg"
      },
      "execution_count": null,
      "outputs": []
    },
    {
      "cell_type": "code",
      "source": [
        "tokens = j.split(' ')\t        # split s into a list  (whitespace by default)\n",
        "tokens"
      ],
      "metadata": {
        "id": "BU-o2-XTJZhp"
      },
      "execution_count": null,
      "outputs": []
    },
    {
      "cell_type": "code",
      "source": [
        "m = ' '.join(tokens)\t        # combine the words of the text into a string using m as the glue\n",
        "m"
      ],
      "metadata": {
        "id": "ZBN79l-DJhBH"
      },
      "execution_count": null,
      "outputs": []
    },
    {
      "cell_type": "code",
      "source": [
        "v = m.replace('this', 'that') # replace instances of t with u inside m\n",
        "v"
      ],
      "metadata": {
        "id": "y4NRMZg4Jvkn"
      },
      "execution_count": null,
      "outputs": []
    },
    {
      "cell_type": "markdown",
      "source": [
        "#Function\n",
        "\n",
        "def 함수명 (입력변수1 ... 입력변수 n)\n",
        "\n",
        "return 출력변수"
      ],
      "metadata": {
        "id": "8phI9ckGKPVw"
      }
    },
    {
      "cell_type": "code",
      "source": [
        "def add(a,b):\n",
        "  return a+b\n",
        "\n",
        "def subtract(a,b):\n",
        "  return a-b\n",
        "\n",
        "def multiply(a,b):\n",
        "  return a*b\n",
        "\n",
        "def divide(a,b):\n",
        "  return a/b"
      ],
      "metadata": {
        "id": "bxRmnCcmKeG9"
      },
      "execution_count": null,
      "outputs": []
    },
    {
      "cell_type": "code",
      "source": [
        "c = add(1,2); print(c)\n",
        "c = subtract(1,2); print(c)\n",
        "c = multiply(1,2); print(c)\n",
        "c = divide(1,2); print(c)"
      ],
      "metadata": {
        "id": "tIYNELg9Kl4n"
      },
      "execution_count": null,
      "outputs": []
    },
    {
      "cell_type": "markdown",
      "source": [
        "#Syntax"
      ],
      "metadata": {
        "id": "qPUzlJLiNHjC"
      }
    },
    {
      "cell_type": "markdown",
      "source": [
        "##for 반복문\n",
        "\n",
        "**for** i **in** a:  >>> list a에 있는 것을 i로 처음부터 하나하나씩 받아서 실행"
      ],
      "metadata": {
        "id": "LJzzIpRYNSrf"
      }
    },
    {
      "cell_type": "code",
      "source": [
        "a = [1, 2, 3, 4]\n",
        "for i in a:\n",
        "    print(i)"
      ],
      "metadata": {
        "id": "VkGU_qUbNVx4"
      },
      "execution_count": null,
      "outputs": []
    },
    {
      "cell_type": "markdown",
      "source": [
        "**for** i ***in*** *range*(4): >>> 이 형식에서 range(4)는 [0, 1, 2, 3]의 list와 동일"
      ],
      "metadata": {
        "id": "N-FZA1uuP4dH"
      }
    },
    {
      "cell_type": "code",
      "source": [
        "a = [1, 2, 3, 4]\n",
        "for i in range(4):\n",
        "    print(a[i])"
      ],
      "metadata": {
        "id": "Us8Z-uIuOa8a"
      },
      "execution_count": null,
      "outputs": []
    },
    {
      "cell_type": "markdown",
      "source": [
        "**for** i **in** *range(len(s))*: >>> 이 형식에서 range(len(a))는 a의 list 길이만큼의 인덱스 list를 만듬"
      ],
      "metadata": {
        "id": "sSRkpE1ARTOj"
      }
    },
    {
      "cell_type": "code",
      "source": [
        "a = [1, 2, 3, 4]\n",
        "for i in range(len(a)):\n",
        "    print(a[i])"
      ],
      "metadata": {
        "id": "YGdr3PzRNa9F"
      },
      "execution_count": null,
      "outputs": []
    },
    {
      "cell_type": "code",
      "source": [
        "a = ['red', 'green', 'blue', 'purple']\n",
        "for i in a:\n",
        "    print(i)"
      ],
      "metadata": {
        "id": "K8lXCIY2NkrZ"
      },
      "execution_count": null,
      "outputs": []
    },
    {
      "cell_type": "code",
      "source": [
        "a = ['red', 'green', 'blue', 'purple']\n",
        "for i in range(len(a)):\n",
        "    print(a[i])"
      ],
      "metadata": {
        "id": "uPnHjPEZNpGn"
      },
      "execution_count": null,
      "outputs": []
    },
    {
      "cell_type": "markdown",
      "source": [
        "##if 조건문"
      ],
      "metadata": {
        "id": "Xe_FyvONShcT"
      }
    },
    {
      "cell_type": "code",
      "source": [
        "a = 0\n",
        "if a == 0:\n",
        "    print(a)\n",
        "else:\n",
        "    print(a+1)"
      ],
      "metadata": {
        "id": "dA34zJJzNtU-"
      },
      "execution_count": null,
      "outputs": []
    },
    {
      "cell_type": "code",
      "source": [
        "a = 0\n",
        "if a != 0:\n",
        "    print(a)\n",
        "else:\n",
        "    print(a+1)"
      ],
      "metadata": {
        "id": "_QL4n_Z0Nycu"
      },
      "execution_count": null,
      "outputs": []
    },
    {
      "cell_type": "markdown",
      "source": [
        "for i in range(1, 3) >>> range(1, 3) = [1, 2]  (range의 첫번째 거 포함; range의 두번째것 비포함)\n",
        "\n",
        "for i in range(3, 5) >>> range(3, 5) = [3, 4]"
      ],
      "metadata": {
        "id": "BTCWpE13S86F"
      }
    },
    {
      "cell_type": "code",
      "source": [
        "for i in range(1, 3):\n",
        "    for j in range(3, 5):\n",
        "        print(i*j)"
      ],
      "metadata": {
        "id": "rw8dYlNVN5S_"
      },
      "execution_count": null,
      "outputs": []
    },
    {
      "cell_type": "code",
      "source": [
        "for i in range(1, 3):\n",
        "    for j in range(3, 5):\n",
        "        if j >=4:\n",
        "            print(i*j)"
      ],
      "metadata": {
        "id": "PFjZ9S3BN7oZ"
      },
      "execution_count": null,
      "outputs": []
    },
    {
      "cell_type": "markdown",
      "source": [
        "##List comprehension"
      ],
      "metadata": {
        "id": "FkNaf71MUMFF"
      }
    },
    {
      "cell_type": "markdown",
      "source": [
        "(예) List 안쪽에 for문이 들어간 경우\n",
        "\n",
        "b = [i for i in a if i >=2] >> a에 있는 것을 하나하나씩 i로 반복해서 받고, if문을 실행"
      ],
      "metadata": {
        "id": "sYGqb7-tU6iN"
      }
    },
    {
      "cell_type": "code",
      "source": [
        "a = [1, 2, 3, 4]\n",
        "b = [i for i in a if i >=2]\n",
        "b"
      ],
      "metadata": {
        "id": "J6jFPlwKOCcj"
      },
      "execution_count": null,
      "outputs": []
    },
    {
      "cell_type": "code",
      "source": [
        "a = ['red', 'green', 'blue', 'purple']\n",
        "b = [i for i in a if len(i) >=4]\n",
        "b"
      ],
      "metadata": {
        "id": "sTLoElg6OGev"
      },
      "execution_count": null,
      "outputs": []
    },
    {
      "cell_type": "markdown",
      "source": [
        "##Dict comprehension"
      ],
      "metadata": {
        "id": "bPFsoFi3URDe"
      }
    },
    {
      "cell_type": "markdown",
      "source": [
        "(예) Dict안에 for문이 있는 경우\n",
        "\n",
        "range(4) = [0, 1, 2, 3] ;; { a[0]: b[0], a[1]: b[1], ....}"
      ],
      "metadata": {
        "id": "m2NOEKAvVYSE"
      }
    },
    {
      "cell_type": "code",
      "source": [
        "a = ['red', 'green', 'blue', 'purple']\n",
        "b = [1, 2, 3, 4]\n",
        "c = {a[i]:b[i] for i in range(4)}\n",
        "c"
      ],
      "metadata": {
        "id": "eD3Y624JOIDV"
      },
      "execution_count": null,
      "outputs": []
    },
    {
      "cell_type": "markdown",
      "source": [
        "#How to \"Import packages\""
      ],
      "metadata": {
        "id": "RUgnp6cWP4t_"
      }
    },
    {
      "cell_type": "markdown",
      "source": [
        "Pakckage 예시\n",
        "\n",
        "numpy; pandas; matplotlib; seaborn; sklearn; requests; urllib3; nltk; PIL; pytest; librosa"
      ],
      "metadata": {
        "id": "qIoU3x2aSgh8"
      }
    },
    {
      "cell_type": "code",
      "source": [
        "import numpy"
      ],
      "metadata": {
        "id": "-pW_jxvFR1Zx"
      },
      "execution_count": null,
      "outputs": []
    },
    {
      "cell_type": "code",
      "source": [
        "numpy.random.randn(5)"
      ],
      "metadata": {
        "id": "OA5pIHv0R4sR"
      },
      "execution_count": null,
      "outputs": []
    },
    {
      "cell_type": "markdown",
      "source": [
        "##다양한 import packages 방법들"
      ],
      "metadata": {
        "id": "LtVAwN5qSPYT"
      }
    },
    {
      "cell_type": "code",
      "source": [
        "import numpy as np\n",
        "n = np.random.randn(100)"
      ],
      "metadata": {
        "id": "HXp80W0FQn7m"
      },
      "execution_count": null,
      "outputs": []
    },
    {
      "cell_type": "code",
      "source": [
        "import matplotlib\n",
        "matplotlib.pyplot.hist(n)"
      ],
      "metadata": {
        "id": "XYuNw2DqQxoN"
      },
      "execution_count": null,
      "outputs": []
    },
    {
      "cell_type": "code",
      "source": [
        "import matplotlib.pyplot\n",
        "matplotlib.pyplot.hist(n)"
      ],
      "metadata": {
        "id": "r_n83fu-RHWf"
      },
      "execution_count": null,
      "outputs": []
    },
    {
      "cell_type": "code",
      "source": [
        "import matplotlib.pyplot as plt\n",
        "plt.hist(n)"
      ],
      "metadata": {
        "id": "pc1NJVSXRKLG"
      },
      "execution_count": null,
      "outputs": []
    },
    {
      "cell_type": "markdown",
      "source": [
        "**from import**를 쓰면 **import as**처럼 축약해서 부를 수 있는 효과"
      ],
      "metadata": {
        "id": "dJUJ9mYLRbUS"
      }
    },
    {
      "cell_type": "code",
      "source": [
        "from matplotlib import pyplot\n",
        "pyplot.hist(n)"
      ],
      "metadata": {
        "id": "6vj129RVRdTc"
      },
      "execution_count": null,
      "outputs": []
    },
    {
      "cell_type": "code",
      "source": [
        "from matplotlib.pyplot import hist\n",
        "hist(n)"
      ],
      "metadata": {
        "id": "p7rC0-RMRhgf"
      },
      "execution_count": null,
      "outputs": []
    }
  ]
}