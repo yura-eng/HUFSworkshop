{
  "nbformat": 4,
  "nbformat_minor": 0,
  "metadata": {
    "colab": {
      "provenance": [],
      "include_colab_link": true
    },
    "kernelspec": {
      "name": "python3",
      "display_name": "Python 3"
    },
    "language_info": {
      "name": "python"
    }
  },
  "cells": [
    {
      "cell_type": "markdown",
      "metadata": {
        "id": "view-in-github",
        "colab_type": "text"
      },
      "source": [
        "<a href=\"https://colab.research.google.com/github/yura-eng/HUFSworkshop/blob/main/multimodality.ipynb\" target=\"_parent\"><img src=\"https://colab.research.google.com/assets/colab-badge.svg\" alt=\"Open In Colab\"/></a>"
      ]
    },
    {
      "cell_type": "markdown",
      "source": [
        "# 🌿📻💻 **Multimodality**"
      ],
      "metadata": {
        "id": "KNLM7DdOKpvp"
      }
    },
    {
      "cell_type": "markdown",
      "source": [
        "# **1. Text to Text**"
      ],
      "metadata": {
        "id": "NNfFJNafK0nO"
      }
    },
    {
      "cell_type": "code",
      "execution_count": null,
      "metadata": {
        "id": "e5ogpsNKKkK4"
      },
      "outputs": [],
      "source": [
        "#Translation from English to French (words): hello, world, professor, student\n",
        "\n",
        "# English to French dictionary for demonstration\n",
        "english_to_french = {\n",
        "    \"hello\": \"bonjour\",\n",
        "    \"world\": \"monde\",\n",
        "    \"teacher\": \"professeur\",\n",
        "    \"student\": \"étudiant\"\n",
        "}\n",
        "\n",
        "# Input text\n",
        "input_text = input()\n",
        "translated_text = english_to_french.get(input_text, \"Translation not found\")\n",
        "\n",
        "print(\"English:\", input_text)\n",
        "print(\"French:\", translated_text)\n"
      ]
    },
    {
      "cell_type": "markdown",
      "source": [
        "# **2. Text to Speech**"
      ],
      "metadata": {
        "id": "-v2lSjrsLLO4"
      }
    },
    {
      "cell_type": "code",
      "source": [
        "!pip install gTTS\n",
        "\n",
        "# Install and import necessary library\n",
        "\n",
        "from gtts import gTTS\n",
        "from IPython.display import Audio\n",
        "\n",
        "# Input text\n",
        "text_to_speak = \"Hello students, welcome to our English class!\"\n",
        "\n",
        "# Convert text to speech\n",
        "tts = gTTS(text_to_speak)\n",
        "tts.save('output.mp3')\n",
        "Audio('output.mp3')\n"
      ],
      "metadata": {
        "id": "F35Uz2RLLRAO"
      },
      "execution_count": null,
      "outputs": []
    },
    {
      "cell_type": "code",
      "source": [
        "#Generate speech as you type.\n",
        "\n",
        "from gtts import gTTS\n",
        "from IPython.display import Audio\n",
        "\n",
        "# Input text\n",
        "text_to_speak = input()\n",
        "\n",
        "# Convert text to speech\n",
        "tts = gTTS(text_to_speak)\n",
        "tts.save('output.mp3')\n",
        "Audio('output.mp3')"
      ],
      "metadata": {
        "id": "ATOhWCN3LX0O"
      },
      "execution_count": null,
      "outputs": []
    },
    {
      "cell_type": "markdown",
      "source": [
        "# **3. Text to Image**\n",
        "\n",
        "* AI tools: ChatGPT (DallE), Midjourney, Bing"
      ],
      "metadata": {
        "id": "LlKqIdBcL4tu"
      }
    },
    {
      "cell_type": "code",
      "source": [
        "# Install and import necessary library\n",
        "# !pip install matplotlib\n",
        "import matplotlib.pyplot as plt\n",
        "\n",
        "# Input text\n",
        "input_text = \"Welcome to English Learning\"\n",
        "\n",
        "# Create an image with text\n",
        "fig, ax = plt.subplots()\n",
        "ax.text(0.5, 0.5, input_text, fontsize=15, ha='center', color=\"blue\")\n",
        "ax.axis('off')  # Hide the axes\n",
        "plt.show()"
      ],
      "metadata": {
        "id": "oTNz5Pj2L5yu"
      },
      "execution_count": null,
      "outputs": []
    },
    {
      "cell_type": "code",
      "source": [
        "#Flashcard (image)\n",
        "import matplotlib.pyplot as plt\n",
        "\n",
        "# Create a figure and a single subplot\n",
        "fig, ax = plt.subplots()\n",
        "\n",
        "# Title of the flashcard (Word)\n",
        "ax.text(0.5, 0.7, \"Word: Achieve\", fontsize=18, ha='center', color='purple')\n",
        "\n",
        "# Body of the flashcard (Part of Speech, Definition, Example)\n",
        "body_text = \"Part of Speech: Verb\\n\\nDefinition: To successfully bring about or reach (a desired objective or result) by effort, skill, or courage.\\n\\nExample: After months of hard work, she was able to achieve her goal of learning basic English.\"\n",
        "ax.text(0.1, 0.4, body_text, fontsize=12, ha='left', va='top', wrap=True, color='black')\n",
        "\n",
        "# Hide the axes\n",
        "ax.axis('off')\n",
        "\n",
        "# Save the image\n",
        "plt.savefig('output_image.png')\n",
        "\n",
        "# Display the plot\n",
        "plt.show()"
      ],
      "metadata": {
        "id": "aGro3w74MHXG"
      },
      "execution_count": null,
      "outputs": []
    },
    {
      "cell_type": "markdown",
      "source": [
        "# **4. Open YoutubeVideo**"
      ],
      "metadata": {
        "id": "KJOQseZWMUF2"
      }
    },
    {
      "cell_type": "code",
      "source": [
        "!pip install pytube\n",
        "\n",
        "from IPython.display import YouTubeVideo\n",
        "\n",
        "# YouTube video ID\n",
        "video_id = 'tYa6OLQHrEc'\n",
        "\n",
        "# Display the YouTube video directly in the notebook\n",
        "display(YouTubeVideo(video_id, width=640, height=480))"
      ],
      "metadata": {
        "id": "R3Cb2kjCMctO"
      },
      "execution_count": null,
      "outputs": []
    },
    {
      "cell_type": "markdown",
      "source": [
        "# **5. Speech to text**"
      ],
      "metadata": {
        "id": "0KCkrqbiNKZG"
      }
    }
  ]
}