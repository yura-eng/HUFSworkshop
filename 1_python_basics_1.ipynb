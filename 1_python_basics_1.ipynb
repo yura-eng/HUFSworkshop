{
  "nbformat": 4,
  "nbformat_minor": 0,
  "metadata": {
    "colab": {
      "provenance": [],
      "include_colab_link": true
    },
    "kernelspec": {
      "name": "python3",
      "display_name": "Python 3"
    },
    "language_info": {
      "name": "python"
    }
  },
  "cells": [
    {
      "cell_type": "markdown",
      "metadata": {
        "id": "view-in-github",
        "colab_type": "text"
      },
      "source": [
        "<a href=\"https://colab.research.google.com/github/yura-eng/HUFSworkshop/blob/main/1_python_basics_1.ipynb\" target=\"_parent\"><img src=\"https://colab.research.google.com/assets/colab-badge.svg\" alt=\"Open In Colab\"/></a>"
      ]
    },
    {
      "cell_type": "markdown",
      "source": [
        "##Python Basics\n",
        "\n",
        "A courtesy of Drs. Hosung Nam (Korea Univ.), Miran Kim (GNU), Minjung Son (Hannam Univ.)\n",
        "\n",
        "Learning sources: W3schools.com/Python"
      ],
      "metadata": {
        "id": "iQnbwFluPgGT"
      }
    },
    {
      "cell_type": "markdown",
      "source": [
        "##Defining Variables\n",
        "\n",
        "Types of variables: Integers, floating numbers, and strings"
      ],
      "metadata": {
        "id": "YoS06yCuPnFj"
      }
    },
    {
      "cell_type": "code",
      "execution_count": null,
      "metadata": {
        "id": "DrOu4v9CPeao"
      },
      "outputs": [],
      "source": [
        "# x = 3    'Integer 3 is assigned to the variable 'x'\n",
        "# y = 3.0  'Floating number 3.0 is assigned to the variable 'y'\n",
        "# z = \"3\"  'String \"3\" is assigned to the variable 'z'\n",
        "# single or double quotes for string (both ends should match.)\n",
        "\n",
        "x = 3             # variable 'x' type: integer 'int'\n",
        "y = 3.0           # variable 'y' type: floating number 'float'\n",
        "z = \"3\"           # variable 'z' type: string 'str'\n",
        "Z = 'Character'   # variable 'Z'(capital) type: string 'str'\n",
        "\n",
        "print(type(x))\n",
        "print(type(y))\n",
        "print(type(z))\n",
        "print(type(Z))"
      ]
    },
    {
      "cell_type": "code",
      "source": [
        "# The four fundamental arithmetic operation:\n",
        "\n",
        "a1 = x + y    # addition\n",
        "a2 = x - y    # substraction\n",
        "a3 = x * y    # multiplication\n",
        "a4 = x/y      # division\n",
        "\n",
        "print(a1)     # integer + floating = floating\n",
        "print(a2)\n",
        "print(a3)\n",
        "print(a4)"
      ],
      "metadata": {
        "id": "0s-Od9sod_kP"
      },
      "execution_count": null,
      "outputs": []
    },
    {
      "cell_type": "code",
      "source": [
        "# String operation with '+'\n",
        "# This will concatenate strings\n",
        "\n",
        "a2 = z + z\n",
        "a3 = Z + z\n",
        "print(a2)  # string + string\n",
        "print(type(a2))   # string 33, not integer 33\n",
        "print(a3)"
      ],
      "metadata": {
        "id": "Iorx5NBNeKOI"
      },
      "execution_count": null,
      "outputs": []
    },
    {
      "cell_type": "markdown",
      "source": [
        "string manupulation"
      ],
      "metadata": {
        "id": "LPrcuonjet8q"
      }
    },
    {
      "cell_type": "code",
      "source": [
        "text = \"I'm learning Python.\"\n",
        "print(text)"
      ],
      "metadata": {
        "id": "D5JiDsGCexha"
      },
      "execution_count": null,
      "outputs": []
    },
    {
      "cell_type": "code",
      "source": [
        "x = \"I'm\"\n",
        "y = \"learning\"\n",
        "z = \"Python\"\n",
        "\n",
        "print(x, y, z)"
      ],
      "metadata": {
        "id": "tiCMU76Je126"
      },
      "execution_count": null,
      "outputs": []
    },
    {
      "cell_type": "code",
      "source": [
        "x = \"I'm\"\n",
        "y = \"learning\"\n",
        "z = \"Python\"\n",
        "\n",
        "print(x + y + z)"
      ],
      "metadata": {
        "id": "LTcBO3Vhe6bK"
      },
      "execution_count": null,
      "outputs": []
    },
    {
      "cell_type": "code",
      "source": [
        "x = \"I'm\"\n",
        "y = \"learning\"\n",
        "z = \"Python\"\n",
        "\n",
        "print(x + ' ' + y + ' ' + z +'.') #space can be added"
      ],
      "metadata": {
        "id": "FOWlze9re_Vw"
      },
      "execution_count": null,
      "outputs": []
    },
    {
      "cell_type": "markdown",
      "source": [
        "##Indexing\n",
        "첫자리는 0 (Not 1)"
      ],
      "metadata": {
        "id": "hxFXHtIdSvby"
      }
    },
    {
      "cell_type": "code",
      "source": [
        "a = '123'; print(type(a)); print(a[1])"
      ],
      "metadata": {
        "id": "ZzfoM9B0TrqZ"
      },
      "execution_count": null,
      "outputs": []
    },
    {
      "cell_type": "code",
      "source": [
        "a = 'hello'; print(type(a)); print(a[1])"
      ],
      "metadata": {
        "id": "y2PZcAWETq2b"
      },
      "execution_count": null,
      "outputs": []
    },
    {
      "cell_type": "markdown",
      "source": [
        "[2] Data types\n",
        "Data type is an important concept. Variables can store data of different types, and different types can do different things. Python has the following data types built-in by default:\n",
        "\n",
        "#Data Types\n",
        "\n",
        "  Text Type:\tstr(ing)\n",
        "\n",
        "  Numeric Types:\tint(eger), float(ing)\n",
        "\n",
        "  Sequence Types:\tlist, tuple, range\n",
        "\n",
        "  Mapping Type:\tdict(ionary)\n",
        "\n",
        "🔳 Commonly used types of data: (string, integer, floating numbers), list, dictionary, (tuple)\n",
        "\n",
        "📍 List data handling\n",
        "\n",
        "Accessing items in a listdata\n",
        "\n",
        "Replace items\n",
        "\n",
        "Adding items\n",
        "\n",
        "Inserting items"
      ],
      "metadata": {
        "id": "5JEynz8lU0js"
      }
    },
    {
      "cell_type": "code",
      "source": [
        "# List: list [1, 2, 3, 4, 5] or [\"Python\", \"is\", \"awesome\"]\n",
        "\n",
        "listdata = [1, 2, 3, 4, 5]\n",
        "type(listdata)"
      ],
      "metadata": {
        "id": "qzeHPvgOVRMP"
      },
      "execution_count": null,
      "outputs": []
    },
    {
      "cell_type": "code",
      "source": [
        "# Accessing the data: List data\n",
        "\n",
        "print(listdata[0])  # 1st element of the list\n",
        "print(listdata[1])  # 2nd element\n",
        "print(listdata[2])  # 3rd element\n",
        "print(listdata[3])  # 4th element\n",
        "print(listdata[4])  # 5th element\n",
        "\n",
        "# Negative indexing means start from the end\n",
        "\n",
        "print(listdata[-1]) # 1st from the end\n",
        "print(listdata[-2])\n",
        "print(listdata[-3])\n",
        "print(listdata[-4])\n",
        "print(listdata[-5])"
      ],
      "metadata": {
        "id": "7eNnPND8X5Iq"
      },
      "execution_count": null,
      "outputs": []
    },
    {
      "cell_type": "code",
      "source": [
        "a = [1,'a', [3, '4']]; print(type(a)); print(a[0]); print(a[1]); print(a[2]); print(a[2][1])"
      ],
      "metadata": {
        "id": "9tpZJMkCcSFq"
      },
      "execution_count": null,
      "outputs": []
    },
    {
      "cell_type": "markdown",
      "source": [
        "🔸 Range of Indexes\n",
        "\n",
        "You can specify a range of indexes by specifying where to start and where to end the range. When specifying a range, the return value will be a new list with the specified items."
      ],
      "metadata": {
        "id": "y964UVqtYKpX"
      }
    },
    {
      "cell_type": "code",
      "source": [
        "fruitlist = [\"apple\", \"banana\", \"cherry\", \"orange\", \"kiwi\", \"melon\", \"mango\"]\n",
        "print(fruitlist[2:5])   # From 2nd to the element before the 5th (excluding)\n",
        "print(fruitlist[:5])    # From the 1st to the element before the 5th (excluding)\n",
        "print(fruitlist[-4:-1]) # the first from the end is excluded.\n",
        "print(fruitlist[-4:])"
      ],
      "metadata": {
        "id": "LW4zjKAzYMhi"
      },
      "execution_count": null,
      "outputs": []
    },
    {
      "cell_type": "code",
      "source": [
        "# Change item values:\n",
        "\n",
        "fruitlist = [\"apple\", \"banana\", \"cherry\", \"orange\"]\n",
        "fruitlist[1] = \"grapes\"\n",
        "\n",
        "print(fruitlist[1])\n",
        "print(fruitlist)"
      ],
      "metadata": {
        "id": "InCzmkKIY2Qk"
      },
      "execution_count": null,
      "outputs": []
    },
    {
      "cell_type": "code",
      "source": [
        "# Change multiple item values:\n",
        "fruitlist = [\"apple\", \"banana\", \"cherry\", \"orange\", \"kiwi\"]\n",
        "fruitlist[1:3] = [\"grapes\",\"banana\"]\n",
        "\n",
        "print(fruitlist)"
      ],
      "metadata": {
        "id": "FopjAQgbZ4XI"
      },
      "execution_count": null,
      "outputs": []
    },
    {
      "cell_type": "code",
      "source": [
        "# Add items: append\n",
        "fruitlist = [\"apple\", \"banana\", \"cherry\", \"orange\", \"kiwi\"]\n",
        "\n",
        "fruitlist.append(\"blueberry\")\n",
        "print(fruitlist)\n",
        "\n",
        "# Length of items in a list: len()\n",
        "\n",
        "len(fruitlist)"
      ],
      "metadata": {
        "id": "_QXTOHmvZcKA"
      },
      "execution_count": null,
      "outputs": []
    },
    {
      "cell_type": "code",
      "source": [
        "# Add an item in a specific location: listdata.insert()\n",
        "\n",
        "fruitlist = [\"apple\", \"banana\", \"cherry\"]\n",
        "fruitlist.insert(0, \"blueberry\")\n",
        "fruitlist.insert(2, \"raspberry\")\n",
        "print(fruitlist)"
      ],
      "metadata": {
        "id": "F6AgcDp0Z9Mv"
      },
      "execution_count": null,
      "outputs": []
    },
    {
      "cell_type": "code",
      "source": [
        "# Remove items:\n",
        "\n",
        "fruitlist = [\"apple\", \"banana\", \"cherry\"]\n",
        "\n",
        "fruitlist.remove(\"banana\")\n",
        "print(fruitlist)"
      ],
      "metadata": {
        "id": "WRerioqnaO7a"
      },
      "execution_count": null,
      "outputs": []
    },
    {
      "cell_type": "code",
      "source": [
        "# Remove specific items: (1) .pop()\n",
        "\n",
        "fruitlist = [\"apple\", \"banana\", \"cherry\"]\n",
        "fruitlist.pop(2)  # Remove the 3rd item\n",
        "print(fruitlist)\n",
        "\n",
        "# Remove specific index: (2) del\n",
        "\n",
        "del fruitlist[0]\n",
        "print(fruitlist)"
      ],
      "metadata": {
        "id": "ReGZi7EXaQAv"
      },
      "execution_count": null,
      "outputs": []
    },
    {
      "cell_type": "markdown",
      "source": [
        "📍 Dict data handling"
      ],
      "metadata": {
        "id": "symrl3xiczEf"
      }
    },
    {
      "cell_type": "code",
      "source": [
        "# Dictionary: dict {\"index1\": \"value1\", \"index2\": \"value2\"}\n",
        "\n",
        "dictdata = {'Noun': 'Python', 'Adj': 'awesome', 'Verb': 'is'}\n",
        "type(dictdata)"
      ],
      "metadata": {
        "id": "E4R1MR2-c0mO"
      },
      "execution_count": null,
      "outputs": []
    },
    {
      "cell_type": "code",
      "source": [
        "# Accessing the data: Use index for dictionary data\n",
        "\n",
        "print(dictdata['Noun'])  # 1st element of the list\n",
        "print(dictdata['Verb'])  # 2nd element\n",
        "print(dictdata['Adj'])   # 3rd element\n",
        "\n",
        "print(dictdata['Noun'], dictdata['Verb'], dictdata['Adj'])"
      ],
      "metadata": {
        "id": "S0MB6t_6dEv2"
      },
      "execution_count": null,
      "outputs": []
    },
    {
      "cell_type": "code",
      "source": [
        "# Dictionary data with list:\n",
        "\n",
        "dictdata1 = {'Noun': [\"book\",\"table\",\"Birds\"], 'Adj': [\"expensive\",\"good\",\"awesome\"],\"Verb\": [\"is\",\"become\",\"sing\"]}\n",
        "\n",
        "print(dictdata1['Noun'])\n",
        "print(dictdata1['Noun'][0])   # 1st element of the list with the index 'Noun'\n",
        "print(dictdata1['Noun'][1])\n",
        "print(dictdata1['Noun'][2])"
      ],
      "metadata": {
        "id": "-eQ1PhGzdMeV"
      },
      "execution_count": null,
      "outputs": []
    },
    {
      "cell_type": "code",
      "source": [
        "a = dictdata1['Noun'][2]\n",
        "b = dictdata1['Verb'][2]\n",
        "\n",
        "print(a, b)"
      ],
      "metadata": {
        "id": "N8muFh4ndThH"
      },
      "execution_count": null,
      "outputs": []
    }
  ]
}